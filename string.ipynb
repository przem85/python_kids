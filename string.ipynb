{
 "cells": [
  {
   "cell_type": "markdown",
   "metadata": {},
   "source": [
    "Zmienna napisowa w python to string.\n",
    "\n",
    "Napis w pythonie to poprostu tablica zawierająca litery.\n"
   ]
  },
  {
   "cell_type": "code",
   "execution_count": 1,
   "metadata": {
    "collapsed": true
   },
   "outputs": [],
   "source": [
    "napis_1 = \"My name is Zuza\""
   ]
  },
  {
   "cell_type": "code",
   "execution_count": 2,
   "metadata": {},
   "outputs": [
    {
     "name": "stdout",
     "output_type": "stream",
     "text": [
      "Ma na inie Zuzanna\n"
     ]
    }
   ],
   "source": [
    "print(napis_1)"
   ]
  },
  {
   "cell_type": "markdown",
   "metadata": {},
   "source": [
    "# Zad 1.\n",
    "Stwórz zmienną typu string (napis) zawierającą napis\n",
    "```python\n",
    "\"My name is Przemek\"\n",
    "```\n"
   ]
  },
  {
   "cell_type": "code",
   "execution_count": null,
   "metadata": {
    "collapsed": true
   },
   "outputs": [],
   "source": []
  },
  {
   "cell_type": "markdown",
   "metadata": {},
   "source": [
    "Ponieważ napis to tablica pojedyńczych liter to można wypisać konkretną literę.\n",
    "\n",
    "Można wykonac to za pomocą nawiasów kwadratowych. Będziemy mówić, że wykorzystujemy operator nawiasów kwadratowych."
   ]
  },
  {
   "cell_type": "code",
   "execution_count": 6,
   "metadata": {},
   "outputs": [
    {
     "name": "stdout",
     "output_type": "stream",
     "text": [
      "M\n"
     ]
    }
   ],
   "source": [
    "print(napis_1[0])"
   ]
  },
  {
   "cell_type": "code",
   "execution_count": 8,
   "metadata": {},
   "outputs": [
    {
     "name": "stdout",
     "output_type": "stream",
     "text": [
      "n\n"
     ]
    }
   ],
   "source": [
    "print(napis_1[3])"
   ]
  },
  {
   "cell_type": "markdown",
   "metadata": {},
   "source": [
    "## Zauważ że pierwsza litera ma indeks **0**\n",
    "\n",
    "Informatycy licza od zera:\n",
    "\n",
    "0, 1, 2, 3, ...\n",
    "\n",
    "Ma to taka konsekwencję, że jak ktoś pisze wypisz literę drugą to znaczy że chodzi o literę o indeksie trzy.\n",
    "\n"
   ]
  },
  {
   "cell_type": "markdown",
   "metadata": {},
   "source": [
    "# Zad. 2\n",
    "\n",
    "Wypisz literę 8 i 11 zmennej typu string o nazwie \n",
    "\n",
    "```python\n",
    "napis_1\n",
    "```"
   ]
  },
  {
   "cell_type": "code",
   "execution_count": null,
   "metadata": {
    "collapsed": true
   },
   "outputs": [],
   "source": []
  },
  {
   "cell_type": "markdown",
   "metadata": {},
   "source": [
    "Można wypisać fragmęt napisu za pomocą podania przedziału.\n",
    "\n",
    "Wypiszmy litery od indeksu 3 do 7.\n",
    "\n",
    "* aby to wykonać w nawiasach kwadratowych podajemy \"indeks początkowy\" \"dwukropek\" \"indeks końcowy\" \n",
    "* pamiętaj, że litery są indeksowane od **\"0\"**"
   ]
  },
  {
   "cell_type": "code",
   "execution_count": 12,
   "metadata": {},
   "outputs": [
    {
     "name": "stdout",
     "output_type": "stream",
     "text": [
      "na i\n"
     ]
    }
   ],
   "source": [
    "print(napis_1[3:7])"
   ]
  },
  {
   "cell_type": "markdown",
   "metadata": {},
   "source": [
    "# Zad. 3\n",
    "Wypisz litery od indeksu 7 do 9."
   ]
  },
  {
   "cell_type": "code",
   "execution_count": null,
   "metadata": {
    "collapsed": true
   },
   "outputs": [],
   "source": []
  },
  {
   "cell_type": "markdown",
   "metadata": {},
   "source": [
    "Czły czas wyklorzystujemy funkcję \n",
    "\n",
    "```python\n",
    "print()\n",
    "```\n",
    "\n",
    "wypisuje ona wartość zmiennej i przechodzi do nowej lini."
   ]
  },
  {
   "cell_type": "code",
   "execution_count": 15,
   "metadata": {},
   "outputs": [
    {
     "name": "stdout",
     "output_type": "stream",
     "text": [
      "My \n",
      "name \n",
      "is \n",
      "Przemek\n"
     ]
    }
   ],
   "source": [
    "print(\"My \")\n",
    "print(\"name \")\n",
    "print(\"is \")\n",
    "print(\"Przemek\")"
   ]
  },
  {
   "cell_type": "markdown",
   "metadata": {},
   "source": [
    "Aby wypisać słowa po sobie musimy dodać"
   ]
  },
  {
   "cell_type": "code",
   "execution_count": 16,
   "metadata": {},
   "outputs": [
    {
     "name": "stdout",
     "output_type": "stream",
     "text": [
      "My name is Przemek"
     ]
    }
   ],
   "source": [
    "print(\"My \", end=\"\")\n",
    "print(\"name \", end=\"\")\n",
    "print(\"is \", end=\"\")\n",
    "print(\"Przemek\", end=\"\")"
   ]
  },
  {
   "cell_type": "markdown",
   "metadata": {},
   "source": [
    "# Zad. 4\n",
    "\n",
    "Napisz skrypt, który wyświetla poniższy rysunek:"
   ]
  },
  {
   "cell_type": "code",
   "execution_count": 23,
   "metadata": {},
   "outputs": [
    {
     "name": "stdout",
     "output_type": "stream",
     "text": [
      "\\  |  /\n",
      "  @ @\n",
      "   *\n",
      "  \\ /\n"
     ]
    }
   ],
   "source": []
  },
  {
   "cell_type": "code",
   "execution_count": null,
   "metadata": {
    "collapsed": true
   },
   "outputs": [],
   "source": []
  }
 ],
 "metadata": {
  "kernelspec": {
   "display_name": "Python 3",
   "language": "python",
   "name": "python3"
  },
  "language_info": {
   "codemirror_mode": {
    "name": "ipython",
    "version": 3
   },
   "file_extension": ".py",
   "mimetype": "text/x-python",
   "name": "python",
   "nbconvert_exporter": "python",
   "pygments_lexer": "ipython3",
   "version": "3.6.3"
  }
 },
 "nbformat": 4,
 "nbformat_minor": 2
}
